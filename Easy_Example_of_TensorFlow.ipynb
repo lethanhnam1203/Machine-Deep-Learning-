{
  "nbformat": 4,
  "nbformat_minor": 0,
  "metadata": {
    "colab": {
      "name": "Easy Example of TensorFlow.ipynb",
      "provenance": [],
      "collapsed_sections": [],
      "authorship_tag": "ABX9TyOHa9nkryHOZd2DqCUba5M0",
      "include_colab_link": true
    },
    "kernelspec": {
      "name": "python3",
      "display_name": "Python 3"
    },
    "language_info": {
      "name": "python"
    }
  },
  "cells": [
    {
      "cell_type": "markdown",
      "metadata": {
        "id": "view-in-github",
        "colab_type": "text"
      },
      "source": [
        "<a href=\"https://colab.research.google.com/github/lethanhnam1203/Machine-Deep-Learning-/blob/main/Easy_Example_of_TensorFlow.ipynb\" target=\"_parent\"><img src=\"https://colab.research.google.com/assets/colab-badge.svg\" alt=\"Open In Colab\"/></a>"
      ]
    },
    {
      "cell_type": "code",
      "metadata": {
        "id": "NtQ6pXP3jjTR"
      },
      "source": [
        "import numpy as np\n",
        "import tensorflow as tf"
      ],
      "execution_count": 46,
      "outputs": []
    },
    {
      "cell_type": "code",
      "metadata": {
        "colab": {
          "base_uri": "https://localhost:8080/"
        },
        "id": "loGRFClBjnbg",
        "outputId": "f4767131-9c98-4ee9-9901-c78a135aef47"
      },
      "source": [
        "w = tf.Variable(0, dtype = tf.float32)\n",
        "v = tf.Variable(0, dtype = tf.float32)\n",
        "optimiser = tf.keras.optimizers.Adam(0.1)\n",
        "\n",
        "def train_step():\n",
        "  with tf.GradientTape() as tape:\n",
        "    cost = 2*v**2 + 5*w**2 - 4*w*v - 12*w - 6*v + 50\n",
        "  trainable_variables = [w, v]\n",
        "  grads = tape.gradient(cost, trainable_variables)\n",
        "  optimizer.apply_gradients(zip(grads, trainable_variables))\n",
        "\n",
        "print(w)\n",
        "print(v)"
      ],
      "execution_count": 47,
      "outputs": [
        {
          "output_type": "stream",
          "text": [
            "<tf.Variable 'Variable:0' shape=() dtype=float32, numpy=0.0>\n",
            "<tf.Variable 'Variable:0' shape=() dtype=float32, numpy=0.0>\n"
          ],
          "name": "stdout"
        }
      ]
    },
    {
      "cell_type": "code",
      "metadata": {
        "colab": {
          "base_uri": "https://localhost:8080/"
        },
        "id": "bI3N1jSNkXh7",
        "outputId": "b2fd9cb2-8c7c-4aa2-d84c-da8fab678447"
      },
      "source": [
        "train_step()\n",
        "print(w)\n",
        "print(v)"
      ],
      "execution_count": 48,
      "outputs": [
        {
          "output_type": "stream",
          "text": [
            "<tf.Variable 'Variable:0' shape=() dtype=float32, numpy=0.3162298>\n",
            "<tf.Variable 'Variable:0' shape=() dtype=float32, numpy=0.3162297>\n"
          ],
          "name": "stdout"
        }
      ]
    },
    {
      "cell_type": "code",
      "metadata": {
        "colab": {
          "base_uri": "https://localhost:8080/"
        },
        "id": "ANr3mEMwkgYT",
        "outputId": "5cf72207-4b03-4b4f-9f4c-0b27c6827d88"
      },
      "source": [
        "for round in range(1000):\n",
        "  train_step()\n",
        "print(w)\n",
        "print(v)"
      ],
      "execution_count": 42,
      "outputs": [
        {
          "output_type": "stream",
          "text": [
            "<tf.Variable 'Variable:0' shape=() dtype=float32, numpy=3.0>\n",
            "<tf.Variable 'Variable:0' shape=() dtype=float32, numpy=4.5>\n"
          ],
          "name": "stdout"
        }
      ]
    },
    {
      "cell_type": "markdown",
      "metadata": {
        "id": "3gRUZxKSn3IN"
      },
      "source": [
        "# Alternative Code"
      ]
    },
    {
      "cell_type": "code",
      "metadata": {
        "id": "i66uCctFnQVx"
      },
      "source": [
        "x = np.array([2,5,-4,-12,-6,50], dtype=np.float32)"
      ],
      "execution_count": 49,
      "outputs": []
    },
    {
      "cell_type": "code",
      "metadata": {
        "id": "gkICgwwfmvZc"
      },
      "source": [
        "def training(x, w, v, optimiser):\n",
        "  def cost_function():\n",
        "    return x[0]*v**2 + x[1]*w**2 + x[2]*w*v + x[3]*w + x[4]*v + x[5]\n",
        "  for round in range(1000):\n",
        "    optimiser.minimize(cost_function, [w, v])\n",
        "  return w, v"
      ],
      "execution_count": 50,
      "outputs": []
    },
    {
      "cell_type": "code",
      "metadata": {
        "id": "O293TasCnMkn"
      },
      "source": [
        "w, v = training(x, w, v, optimiser)"
      ],
      "execution_count": 51,
      "outputs": []
    },
    {
      "cell_type": "code",
      "metadata": {
        "colab": {
          "base_uri": "https://localhost:8080/"
        },
        "id": "B_Tdw6Pfnxd8",
        "outputId": "f6e41679-f811-41db-d809-f51d6458d18f"
      },
      "source": [
        "print(w)\n",
        "print(v)"
      ],
      "execution_count": 52,
      "outputs": [
        {
          "output_type": "stream",
          "text": [
            "<tf.Variable 'Variable:0' shape=() dtype=float32, numpy=3.0>\n",
            "<tf.Variable 'Variable:0' shape=() dtype=float32, numpy=4.5>\n"
          ],
          "name": "stdout"
        }
      ]
    }
  ]
}