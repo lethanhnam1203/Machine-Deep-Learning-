{
  "nbformat": 4,
  "nbformat_minor": 0,
  "metadata": {
    "colab": {
      "name": "ResNet.ipynb",
      "provenance": [],
      "collapsed_sections": [],
      "include_colab_link": true
    },
    "kernelspec": {
      "name": "python3",
      "display_name": "Python 3"
    },
    "language_info": {
      "name": "python"
    },
    "accelerator": "GPU",
    "widgets": {
      "application/vnd.jupyter.widget-state+json": {
        "2e71a9a9e6014821b5115b00ad6e7839": {
          "model_module": "@jupyter-widgets/controls",
          "model_name": "HBoxModel",
          "state": {
            "_view_name": "HBoxView",
            "_dom_classes": [],
            "_model_name": "HBoxModel",
            "_view_module": "@jupyter-widgets/controls",
            "_model_module_version": "1.5.0",
            "_view_count": null,
            "_view_module_version": "1.5.0",
            "box_style": "",
            "layout": "IPY_MODEL_d44ad9d82ee94e49a65a0bc45e461802",
            "_model_module": "@jupyter-widgets/controls",
            "children": [
              "IPY_MODEL_9ed26e4b83234992b2554bb3f91df55d",
              "IPY_MODEL_de088cfb81b14ae2ac6ffc8c8e8ce486"
            ]
          }
        },
        "d44ad9d82ee94e49a65a0bc45e461802": {
          "model_module": "@jupyter-widgets/base",
          "model_name": "LayoutModel",
          "state": {
            "_view_name": "LayoutView",
            "grid_template_rows": null,
            "right": null,
            "justify_content": null,
            "_view_module": "@jupyter-widgets/base",
            "overflow": null,
            "_model_module_version": "1.2.0",
            "_view_count": null,
            "flex_flow": null,
            "width": null,
            "min_width": null,
            "border": null,
            "align_items": null,
            "bottom": null,
            "_model_module": "@jupyter-widgets/base",
            "top": null,
            "grid_column": null,
            "overflow_y": null,
            "overflow_x": null,
            "grid_auto_flow": null,
            "grid_area": null,
            "grid_template_columns": null,
            "flex": null,
            "_model_name": "LayoutModel",
            "justify_items": null,
            "grid_row": null,
            "max_height": null,
            "align_content": null,
            "visibility": null,
            "align_self": null,
            "height": null,
            "min_height": null,
            "padding": null,
            "grid_auto_rows": null,
            "grid_gap": null,
            "max_width": null,
            "order": null,
            "_view_module_version": "1.2.0",
            "grid_template_areas": null,
            "object_position": null,
            "object_fit": null,
            "grid_auto_columns": null,
            "margin": null,
            "display": null,
            "left": null
          }
        },
        "9ed26e4b83234992b2554bb3f91df55d": {
          "model_module": "@jupyter-widgets/controls",
          "model_name": "FloatProgressModel",
          "state": {
            "_view_name": "ProgressView",
            "style": "IPY_MODEL_fca9ec29a1b2472b81a6962692227ee8",
            "_dom_classes": [],
            "description": "",
            "_model_name": "FloatProgressModel",
            "bar_style": "success",
            "max": 170498071,
            "_view_module": "@jupyter-widgets/controls",
            "_model_module_version": "1.5.0",
            "value": 170498071,
            "_view_count": null,
            "_view_module_version": "1.5.0",
            "orientation": "horizontal",
            "min": 0,
            "description_tooltip": null,
            "_model_module": "@jupyter-widgets/controls",
            "layout": "IPY_MODEL_0bbce3e88a3a444fb9666c058a3e9818"
          }
        },
        "de088cfb81b14ae2ac6ffc8c8e8ce486": {
          "model_module": "@jupyter-widgets/controls",
          "model_name": "HTMLModel",
          "state": {
            "_view_name": "HTMLView",
            "style": "IPY_MODEL_b7d20a0373d54d8e8dbe4822d063dfa0",
            "_dom_classes": [],
            "description": "",
            "_model_name": "HTMLModel",
            "placeholder": "​",
            "_view_module": "@jupyter-widgets/controls",
            "_model_module_version": "1.5.0",
            "value": " 170499072/? [00:06&lt;00:00, 25613400.56it/s]",
            "_view_count": null,
            "_view_module_version": "1.5.0",
            "description_tooltip": null,
            "_model_module": "@jupyter-widgets/controls",
            "layout": "IPY_MODEL_bf2311da97ec4f29b6570488f8c7c75d"
          }
        },
        "fca9ec29a1b2472b81a6962692227ee8": {
          "model_module": "@jupyter-widgets/controls",
          "model_name": "ProgressStyleModel",
          "state": {
            "_view_name": "StyleView",
            "_model_name": "ProgressStyleModel",
            "description_width": "initial",
            "_view_module": "@jupyter-widgets/base",
            "_model_module_version": "1.5.0",
            "_view_count": null,
            "_view_module_version": "1.2.0",
            "bar_color": null,
            "_model_module": "@jupyter-widgets/controls"
          }
        },
        "0bbce3e88a3a444fb9666c058a3e9818": {
          "model_module": "@jupyter-widgets/base",
          "model_name": "LayoutModel",
          "state": {
            "_view_name": "LayoutView",
            "grid_template_rows": null,
            "right": null,
            "justify_content": null,
            "_view_module": "@jupyter-widgets/base",
            "overflow": null,
            "_model_module_version": "1.2.0",
            "_view_count": null,
            "flex_flow": null,
            "width": null,
            "min_width": null,
            "border": null,
            "align_items": null,
            "bottom": null,
            "_model_module": "@jupyter-widgets/base",
            "top": null,
            "grid_column": null,
            "overflow_y": null,
            "overflow_x": null,
            "grid_auto_flow": null,
            "grid_area": null,
            "grid_template_columns": null,
            "flex": null,
            "_model_name": "LayoutModel",
            "justify_items": null,
            "grid_row": null,
            "max_height": null,
            "align_content": null,
            "visibility": null,
            "align_self": null,
            "height": null,
            "min_height": null,
            "padding": null,
            "grid_auto_rows": null,
            "grid_gap": null,
            "max_width": null,
            "order": null,
            "_view_module_version": "1.2.0",
            "grid_template_areas": null,
            "object_position": null,
            "object_fit": null,
            "grid_auto_columns": null,
            "margin": null,
            "display": null,
            "left": null
          }
        },
        "b7d20a0373d54d8e8dbe4822d063dfa0": {
          "model_module": "@jupyter-widgets/controls",
          "model_name": "DescriptionStyleModel",
          "state": {
            "_view_name": "StyleView",
            "_model_name": "DescriptionStyleModel",
            "description_width": "",
            "_view_module": "@jupyter-widgets/base",
            "_model_module_version": "1.5.0",
            "_view_count": null,
            "_view_module_version": "1.2.0",
            "_model_module": "@jupyter-widgets/controls"
          }
        },
        "bf2311da97ec4f29b6570488f8c7c75d": {
          "model_module": "@jupyter-widgets/base",
          "model_name": "LayoutModel",
          "state": {
            "_view_name": "LayoutView",
            "grid_template_rows": null,
            "right": null,
            "justify_content": null,
            "_view_module": "@jupyter-widgets/base",
            "overflow": null,
            "_model_module_version": "1.2.0",
            "_view_count": null,
            "flex_flow": null,
            "width": null,
            "min_width": null,
            "border": null,
            "align_items": null,
            "bottom": null,
            "_model_module": "@jupyter-widgets/base",
            "top": null,
            "grid_column": null,
            "overflow_y": null,
            "overflow_x": null,
            "grid_auto_flow": null,
            "grid_area": null,
            "grid_template_columns": null,
            "flex": null,
            "_model_name": "LayoutModel",
            "justify_items": null,
            "grid_row": null,
            "max_height": null,
            "align_content": null,
            "visibility": null,
            "align_self": null,
            "height": null,
            "min_height": null,
            "padding": null,
            "grid_auto_rows": null,
            "grid_gap": null,
            "max_width": null,
            "order": null,
            "_view_module_version": "1.2.0",
            "grid_template_areas": null,
            "object_position": null,
            "object_fit": null,
            "grid_auto_columns": null,
            "margin": null,
            "display": null,
            "left": null
          }
        }
      }
    }
  },
  "cells": [
    {
      "cell_type": "markdown",
      "metadata": {
        "id": "view-in-github",
        "colab_type": "text"
      },
      "source": [
        "<a href=\"https://colab.research.google.com/github/lethanhnam1203/Machine-Deep-Learning-/blob/main/ResNet_on_CIFAR10.ipynb\" target=\"_parent\"><img src=\"https://colab.research.google.com/assets/colab-badge.svg\" alt=\"Open In Colab\"/></a>"
      ]
    },
    {
      "cell_type": "markdown",
      "metadata": {
        "id": "USlFRYVtlfB9"
      },
      "source": [
        "Set Up"
      ]
    },
    {
      "cell_type": "code",
      "metadata": {
        "id": "0bM1-RPgldOg"
      },
      "source": [
        "import matplotlib.pyplot as plt\n",
        "%matplotlib inline\n",
        "import numpy as np\n",
        "import pandas as pd\n",
        "import torch\n",
        "import torch.nn as nn\n",
        "from torch.utils.data import DataLoader\n",
        "from torchvision import datasets\n",
        "from torchvision import transforms\n",
        "import torch.optim as optim\n",
        "import torch.nn.functional as F\n",
        "from torch.utils.data import sampler"
      ],
      "execution_count": 1,
      "outputs": []
    },
    {
      "cell_type": "markdown",
      "metadata": {
        "id": "-4kfbJM1p_oE"
      },
      "source": [
        "## TASK A: \n",
        "Read the ResNet paper (yes we did it)"
      ]
    },
    {
      "cell_type": "markdown",
      "metadata": {
        "id": "R1qdPybDfUZJ"
      },
      "source": [
        "## TASK B: \n",
        "Implement the ResNet for an arbitrary value of n using PyTorch."
      ]
    },
    {
      "cell_type": "code",
      "metadata": {
        "id": "gDuyxWyv657b"
      },
      "source": [
        "class Block(nn.Module):\n",
        "    \"\"\"\n",
        "    Each block has 2 layers and follows the structure of:\n",
        "    convolution -> batch_normalisation -> relu -> convolution -> batch_normalisation -> short_cut -> relu\n",
        "    \"\"\"\n",
        "    def __init__(self, num_filters, subsample=False):\n",
        "        \"\"\"\n",
        "        Input:\n",
        "        num_filters: int, the number of filters used in each convolution\n",
        "        subsample: boolean, whether to downsize the image by a factor of 1/2               \n",
        "        \"\"\"\n",
        "        super().__init__()\n",
        "        stride_value = 2 if subsample else 1\n",
        "        self.conv1 = nn.Conv2d(in_channels=int(num_filters/stride_value), out_channels=num_filters, kernel_size=3, \n",
        "                               stride=int(stride_value), padding=1, bias=False)\n",
        "        self.bn1 = nn.BatchNorm2d(num_features=num_filters)\n",
        "        self.conv2 = nn.Conv2d(in_channels=num_filters, out_channels=num_filters, \n",
        "                               kernel_size=3, stride=1, padding=1, bias=False)\n",
        "        self.bn2 = nn.BatchNorm2d(num_filters)\n",
        "        self.relu = nn.ReLU()\n",
        "        self.downsample = nn.AvgPool2d(kernel_size=1, stride=2)\n",
        "        # Weight Initialisation\n",
        "        for module in self.modules():\n",
        "            if isinstance(module, nn.Conv2d):\n",
        "                nn.init.kaiming_normal_(module.weight, mode='fan_out', nonlinearity='relu')\n",
        "            elif isinstance(module, nn.BatchNorm2d):\n",
        "                nn.init.constant_(module.weight, 1)\n",
        "                nn.init.constant_(module.bias, 0)\n",
        "                \n",
        "    def forward(self, x):\n",
        "        \"\"\"\n",
        "        Input: \n",
        "        x: tensor, the original input value to the block\n",
        "        shortcut: boolean, if there is a shortcut step (add the identity map)\n",
        "        Output:\n",
        "        out\n",
        "        \"\"\"\n",
        "        out = self.conv1(x)\n",
        "        out = self.bn1(out)\n",
        "        out = self.relu(out)\n",
        "        out = self.conv2(out)\n",
        "        out = self.bn2(out)\n",
        "        if x.shape != out.shape:\n",
        "            downsize_x = self.downsample(x)\n",
        "            out += torch.cat((downsize_x, torch.mul(downsize_x, 0)), dim=1)\n",
        "        else:\n",
        "            out += x\n",
        "        out = self.relu(out)\n",
        "        return out             "
      ],
      "execution_count": 2,
      "outputs": []
    },
    {
      "cell_type": "code",
      "metadata": {
        "id": "VvEUOuwwfxTF"
      },
      "source": [
        "class ResNet(nn.Module):\n",
        "    \"\"\"\n",
        "    Implementation of ResNet for an arbitrary n\n",
        "    \"\"\"\n",
        "    def __init__(self, n):\n",
        "        \"\"\"\n",
        "        Complete architecture for the ResNet\n",
        "        Input:\n",
        "        n: int, the numer of blocks per ouput map size -> 2n layers\n",
        "        shortcut: boolean, if there is a shortcut step (add the identity map)\n",
        "        pool_kernel_size: int, kernel_size of average pooling before the fully connected layer\n",
        "        \"\"\"\n",
        "        super().__init__()\n",
        "        # the first 3x3 convolution -> 1 layer\n",
        "        self.conv0 = nn.Conv2d(in_channels=3, out_channels=16, kernel_size=3, stride=1, padding=1, bias=False)\n",
        "        self.bn0 = nn.BatchNorm2d(num_features=16)\n",
        "        self.relu = nn.ReLU()\n",
        "        # Stack1 (size = 32x32) -> 2n layers -> b blocks\n",
        "        self.stack1 = nn.ModuleList([Block(num_filters=16, subsample=False) for layer in range(n)])\n",
        "        # Stack2 (size = 16x16)\n",
        "        self.stack2_downsize = Block(num_filters=32, subsample=True)\n",
        "        self.stack2 = nn.ModuleList([Block(num_filters=32, subsample=False) for layer in range(n-1)])\n",
        "        # Stack3 (size = 8x8)\n",
        "        self.stack3_downsize = Block(num_filters=64, subsample=True)\n",
        "        self.stack3 = nn.ModuleList([Block(num_filters=64, subsample=False) for layer in range(n-1)])\n",
        "        # Global Average Pooling\n",
        "        self.avgpool = nn.AdaptiveAvgPool2d((1, 1))\n",
        "        # Fully Connected Layer\n",
        "        self.fc = nn.Linear(64, 10, bias=True)\n",
        "        # Weight Initialization\n",
        "        for module in self.modules():\n",
        "            if isinstance(module, nn.Linear):\n",
        "                nn.init.kaiming_normal_(module.weight)\n",
        "                module.bias.data.zero_() \n",
        "        #Softmax\n",
        "        self.softmax = nn.LogSoftmax(dim=-1)\n",
        "        \n",
        "    def forward(self, x):\n",
        "        \"\"\"\n",
        "        Input: \n",
        "        x: tensor, the original input value to the ResNet\n",
        "        Output:\n",
        "        loss (calculated by softmax loss)\n",
        "        \"\"\"\n",
        "        out = self.conv0(x)\n",
        "        out = self.bn0(out)\n",
        "        out = self.relu(out)\n",
        "        for layer in self.stack1:\n",
        "            out = layer.forward(out)\n",
        "        out = self.stack2_downsize.forward(out)\n",
        "        for layer in self.stack2:\n",
        "            out = layer.forward(out) \n",
        "        out = self.stack3_downsize.forward(out)   \n",
        "        for layer in self.stack3:\n",
        "            out = layer.forward(out)\n",
        "        out = self.avgpool(out)\n",
        "        out = out.view(out.size(0), -1)\n",
        "        out = self.fc(out)\n",
        "        loss = self.softmax(out)\n",
        "        return loss"
      ],
      "execution_count": 3,
      "outputs": []
    },
    {
      "cell_type": "markdown",
      "metadata": {
        "id": "HnUflCL-hvbd"
      },
      "source": [
        "## TASK C: \n",
        "Implement data augmentation **\"4 pixels are padded on each side, and a 32×32 crop is randomly sampled from the padded image or its horizontal flip. For testing, we only evaluate the single view of the original 32×32 image.\"**"
      ]
    },
    {
      "cell_type": "code",
      "metadata": {
        "colab": {
          "base_uri": "https://localhost:8080/",
          "height": 134,
          "referenced_widgets": [
            "2e71a9a9e6014821b5115b00ad6e7839",
            "d44ad9d82ee94e49a65a0bc45e461802",
            "9ed26e4b83234992b2554bb3f91df55d",
            "de088cfb81b14ae2ac6ffc8c8e8ce486",
            "fca9ec29a1b2472b81a6962692227ee8",
            "0bbce3e88a3a444fb9666c058a3e9818",
            "b7d20a0373d54d8e8dbe4822d063dfa0",
            "bf2311da97ec4f29b6570488f8c7c75d"
          ]
        },
        "id": "fjlIVpddl4nZ",
        "outputId": "59109196-89b7-4a1d-9bd2-fd4b0d2dbcb6"
      },
      "source": [
        "NUM_TRAIN = 49000\n",
        "\n",
        "# Set preprocessing and data augmentation parameters. Data normalization\n",
        "train_transform = transforms.Compose([transforms.Pad(4),\n",
        "    # 4 pixels are padded on each side  \n",
        "    transforms.RandomHorizontalFlip(p=0.5), transforms.RandomCrop(32), transforms.ToTensor()])\n",
        "    # a 32×32 crop is randomly sampled from the padded image or its horizontal flip  \n",
        "\n",
        "# For testing, we only evaluate the single view of the original 32×32 image\n",
        "test_transform = transforms.Compose([transforms.ToTensor()])\n",
        "\n",
        "# Download and splitting data in training, validation and test sets and in batches.\n",
        "# Taking random samples in a specific range for validation and train data.\n",
        "\n",
        "cifar10_train = datasets.CIFAR10(root='data', train=True, download=True,\n",
        "                             transform=train_transform)\n",
        "loader_train = DataLoader(cifar10_train, batch_size=128, num_workers=2, \n",
        "                          sampler=sampler.SubsetRandomSampler(range(NUM_TRAIN)))\n",
        "\n",
        "cifar10_val = datasets.CIFAR10(root='data', train=True, download=True,\n",
        "                           transform=train_transform)\n",
        "loader_val = DataLoader(cifar10_val, batch_size=128, num_workers=2, \n",
        "                        sampler=sampler.SubsetRandomSampler(range(NUM_TRAIN, 50000)))\n",
        "\n",
        "cifar10_test = datasets.CIFAR10(root='data', train=False, download=True, \n",
        "                            transform=test_transform)\n",
        "loader_test = DataLoader(cifar10_test, batch_size=128, num_workers=2)"
      ],
      "execution_count": 4,
      "outputs": [
        {
          "output_type": "stream",
          "text": [
            "Downloading https://www.cs.toronto.edu/~kriz/cifar-10-python.tar.gz to data/cifar-10-python.tar.gz\n"
          ],
          "name": "stdout"
        },
        {
          "output_type": "display_data",
          "data": {
            "application/vnd.jupyter.widget-view+json": {
              "model_id": "2e71a9a9e6014821b5115b00ad6e7839",
              "version_minor": 0,
              "version_major": 2
            },
            "text/plain": [
              "HBox(children=(FloatProgress(value=0.0, max=170498071.0), HTML(value='')))"
            ]
          },
          "metadata": {
            "tags": []
          }
        },
        {
          "output_type": "stream",
          "text": [
            "\n",
            "Extracting data/cifar-10-python.tar.gz to data\n",
            "Files already downloaded and verified\n",
            "Files already downloaded and verified\n"
          ],
          "name": "stdout"
        }
      ]
    },
    {
      "cell_type": "code",
      "metadata": {
        "colab": {
          "base_uri": "https://localhost:8080/"
        },
        "id": "Bng1vlO_lIA-",
        "outputId": "34801ffa-d420-4d32-c653-7c48573f5344"
      },
      "source": [
        "# Validating training sizes\n",
        "images, labels = next(iter(loader_train))\n",
        "print(f\"images.shape: {images.shape} & labels.shape: {labels.shape}\")"
      ],
      "execution_count": 5,
      "outputs": [
        {
          "output_type": "stream",
          "text": [
            "images.shape: torch.Size([128, 3, 32, 32]) & labels.shape: torch.Size([128])\n"
          ],
          "name": "stdout"
        }
      ]
    },
    {
      "cell_type": "code",
      "metadata": {
        "id": "rr-qZh7Kj_eA"
      },
      "source": [
        "def plot_images(images, cls_true, cls_pred=None):\n",
        "    \"\"\"\n",
        "    This function plot images with their labels.\n",
        "    \"\"\"\n",
        "    # CIFAR10 labels\n",
        "    labels = ['airplane','automobile','bird','cat','deer','dog','frog','horse','ship','truck']\n",
        "    fig, axes = plt.subplots(2, 4)\n",
        "    for i, ax in enumerate(axes.flat):\n",
        "        # plot imgages\n",
        "        ax.imshow(images[i, :, :, :], interpolation='spline16')\n",
        "        # show true & predicted classes\n",
        "        cls_true_name = labels[cls_true[i]]\n",
        "        if cls_pred is None:\n",
        "            xlabel = \"{0} ({1})\".format(cls_true_name, cls_true[i])\n",
        "        else:\n",
        "            cls_pred_name = labels[cls_pred[i]]\n",
        "            xlabel = \"True: {0}\\nPred: {1}\".format(\n",
        "                cls_true_name, cls_pred_name)\n",
        "        ax.set_xlabel(xlabel)\n",
        "        ax.set_xticks([])\n",
        "        ax.set_yticks([])\n",
        "    plt.show()"
      ],
      "execution_count": 6,
      "outputs": []
    },
    {
      "cell_type": "code",
      "metadata": {
        "colab": {
          "base_uri": "https://localhost:8080/",
          "height": 253
        },
        "id": "grgudJSwpxtK",
        "outputId": "495002a4-357a-4c82-a628-e506e4b5ed0c"
      },
      "source": [
        "data_iter = iter(loader_train)\n",
        "images, labels = data_iter.next()\n",
        "print(images.shape)\n",
        "X = images.numpy().transpose([0, 2, 3, 1])\n",
        "plot_images(X, labels)"
      ],
      "execution_count": 13,
      "outputs": [
        {
          "output_type": "stream",
          "text": [
            "torch.Size([128, 3, 32, 32])\n"
          ],
          "name": "stdout"
        },
        {
          "output_type": "display_data",
          "data": {
            "image/png": "[encoded data removed]",
            "text/plain": [
              "<Figure size 432x288 with 8 Axes>"
            ]
          },
          "metadata": {
            "tags": []
          }
        }
      ]
    },
    {
      "cell_type": "markdown",
      "metadata": {
        "id": "RsmgBCQf5VKp"
      },
      "source": [
        "## TASK E: \n",
        "Write a function that counts the parameters of a PyTorch model. How many parameters does the model have?"
      ]
    },
    {
      "cell_type": "code",
      "metadata": {
        "id": "ZN4RxdX8DaB9"
      },
      "source": [
        "def count_parameters(model):\n",
        "    total_params = 0\n",
        "    for name, param in model.named_parameters():\n",
        "        if param.requires_grad is True:\n",
        "          total_params += param.numel()\n",
        "    return total_params"
      ],
      "execution_count": 18,
      "outputs": []
    },
    {
      "cell_type": "code",
      "metadata": {
        "colab": {
          "base_uri": "https://localhost:8080/"
        },
        "id": "CesHP2d6F7zh",
        "outputId": "6be86ab6-bbb4-44e1-8f02-1d2e22defee3"
      },
      "source": [
        "model = ResNet(n=3)\n",
        "print(count_parameters(model))"
      ],
      "execution_count": 19,
      "outputs": [
        {
          "output_type": "stream",
          "text": [
            "269722\n"
          ],
          "name": "stdout"
        }
      ]
    },
    {
      "cell_type": "code",
      "metadata": {
        "colab": {
          "base_uri": "https://localhost:8080/"
        },
        "id": "6WuYRg05Gsvm",
        "outputId": "7c398de3-1751-4d95-f8f7-0b553e8caae1"
      },
      "source": [
        "model = ResNet(n=5)\n",
        "print(count_parameters(model))"
      ],
      "execution_count": 20,
      "outputs": [
        {
          "output_type": "stream",
          "text": [
            "464154\n"
          ],
          "name": "stdout"
        }
      ]
    },
    {
      "cell_type": "code",
      "metadata": {
        "colab": {
          "base_uri": "https://localhost:8080/"
        },
        "id": "to6CAqkX5Sgg",
        "outputId": "3e804fb4-b2bf-43a0-ec9d-e3dd8c339b6c"
      },
      "source": [
        "#The function below is much nicer, adjusted based on \n",
        "#https://stackoverflow.com/questions/49201236/check-the-total-number-of-parameters-in-a-pytorch-model\n",
        "\n",
        "from prettytable import PrettyTable\n",
        "def count_parameters(model):\n",
        "    table = PrettyTable([\"Modules\", \"No. of parameters\"])\n",
        "    total_params = 0\n",
        "    for name, param in model.named_parameters():\n",
        "        if param.requires_grad is True: \n",
        "          number_of_params = param.numel()\n",
        "          table.add_row([name, number_of_params])\n",
        "          total_params+=number_of_params\n",
        "    print(table)\n",
        "    print(\"Total Trainable Parameters:\", total_params)\n",
        "    return total_params\n",
        "\n",
        "model = ResNet(n=3)  \n",
        "count_parameters(model)"
      ],
      "execution_count": 17,
      "outputs": [
        {
          "output_type": "stream",
          "text": [
            "+------------------------------+-------------------+\n",
            "|           Modules            | No. of parameters |\n",
            "+------------------------------+-------------------+\n",
            "|         conv0.weight         |        432        |\n",
            "|          bn0.weight          |         16        |\n",
            "|           bn0.bias           |         16        |\n",
            "|    stack1.0.conv1.weight     |        2304       |\n",
            "|     stack1.0.bn1.weight      |         16        |\n",
            "|      stack1.0.bn1.bias       |         16        |\n",
            "|    stack1.0.conv2.weight     |        2304       |\n",
            "|     stack1.0.bn2.weight      |         16        |\n",
            "|      stack1.0.bn2.bias       |         16        |\n",
            "|    stack1.1.conv1.weight     |        2304       |\n",
            "|     stack1.1.bn1.weight      |         16        |\n",
            "|      stack1.1.bn1.bias       |         16        |\n",
            "|    stack1.1.conv2.weight     |        2304       |\n",
            "|     stack1.1.bn2.weight      |         16        |\n",
            "|      stack1.1.bn2.bias       |         16        |\n",
            "|    stack1.2.conv1.weight     |        2304       |\n",
            "|     stack1.2.bn1.weight      |         16        |\n",
            "|      stack1.2.bn1.bias       |         16        |\n",
            "|    stack1.2.conv2.weight     |        2304       |\n",
            "|     stack1.2.bn2.weight      |         16        |\n",
            "|      stack1.2.bn2.bias       |         16        |\n",
            "| stack2_downsize.conv1.weight |        4608       |\n",
            "|  stack2_downsize.bn1.weight  |         32        |\n",
            "|   stack2_downsize.bn1.bias   |         32        |\n",
            "| stack2_downsize.conv2.weight |        9216       |\n",
            "|  stack2_downsize.bn2.weight  |         32        |\n",
            "|   stack2_downsize.bn2.bias   |         32        |\n",
            "|    stack2.0.conv1.weight     |        9216       |\n",
            "|     stack2.0.bn1.weight      |         32        |\n",
            "|      stack2.0.bn1.bias       |         32        |\n",
            "|    stack2.0.conv2.weight     |        9216       |\n",
            "|     stack2.0.bn2.weight      |         32        |\n",
            "|      stack2.0.bn2.bias       |         32        |\n",
            "|    stack2.1.conv1.weight     |        9216       |\n",
            "|     stack2.1.bn1.weight      |         32        |\n",
            "|      stack2.1.bn1.bias       |         32        |\n",
            "|    stack2.1.conv2.weight     |        9216       |\n",
            "|     stack2.1.bn2.weight      |         32        |\n",
            "|      stack2.1.bn2.bias       |         32        |\n",
            "| stack3_downsize.conv1.weight |       18432       |\n",
            "|  stack3_downsize.bn1.weight  |         64        |\n",
            "|   stack3_downsize.bn1.bias   |         64        |\n",
            "| stack3_downsize.conv2.weight |       36864       |\n",
            "|  stack3_downsize.bn2.weight  |         64        |\n",
            "|   stack3_downsize.bn2.bias   |         64        |\n",
            "|    stack3.0.conv1.weight     |       36864       |\n",
            "|     stack3.0.bn1.weight      |         64        |\n",
            "|      stack3.0.bn1.bias       |         64        |\n",
            "|    stack3.0.conv2.weight     |       36864       |\n",
            "|     stack3.0.bn2.weight      |         64        |\n",
            "|      stack3.0.bn2.bias       |         64        |\n",
            "|    stack3.1.conv1.weight     |       36864       |\n",
            "|     stack3.1.bn1.weight      |         64        |\n",
            "|      stack3.1.bn1.bias       |         64        |\n",
            "|    stack3.1.conv2.weight     |       36864       |\n",
            "|     stack3.1.bn2.weight      |         64        |\n",
            "|      stack3.1.bn2.bias       |         64        |\n",
            "|          fc.weight           |        640        |\n",
            "|           fc.bias            |         10        |\n",
            "+------------------------------+-------------------+\n",
            "Total Trainable Parameters: 269722\n"
          ],
          "name": "stdout"
        },
        {
          "output_type": "execute_result",
          "data": {
            "text/plain": [
              "269722"
            ]
          },
          "metadata": {
            "tags": []
          },
          "execution_count": 17
        }
      ]
    },
    {
      "cell_type": "markdown",
      "metadata": {
        "id": "XmZYqZIOvB8V"
      },
      "source": [
        "## TASK D: \n",
        "**\"Train the model for n= 3 for min 5 epochs using an exponential learning rate decay with γ= 0.95. Make sure min 70% test accuracy.\"**"
      ]
    },
    {
      "cell_type": "markdown",
      "metadata": {
        "id": "jq7QFotC_ZQA"
      },
      "source": [
        "Lets try with some code from the last lecture"
      ]
    },
    {
      "cell_type": "code",
      "metadata": {
        "colab": {
          "base_uri": "https://localhost:8080/"
        },
        "id": "nwys23-U_Xio",
        "outputId": "13e3c75a-a20c-4a22-ccf4-4b9f3b11b207"
      },
      "source": [
        "# Use the GPU when possible\n",
        "\n",
        "USE_GPU = True\n",
        "\n",
        "dtype = torch.float32 # we will be using float throughout this tutorial\n",
        "\n",
        "if USE_GPU and torch.cuda.is_available():\n",
        "    device = torch.device('cuda')\n",
        "else:\n",
        "    device = torch.device('cpu')\n",
        "\n",
        "# Constant to control how frequently we print train loss\n",
        "print_every = 100\n",
        "\n",
        "print('using device:', device)\n",
        "def train_part34(model, optimizer, epochs=1):\n",
        "    \"\"\"\n",
        "    Train a model on CIFAR-10 using the PyTorch Module API.\n",
        "    \n",
        "    Inputs:\n",
        "    - model: A PyTorch Module giving the model to train.\n",
        "    - optimizer: An Optimizer object we will use to train the model\n",
        "    - epochs: (Optional) A Python integer giving the number of epochs to train for\n",
        "    \n",
        "    Returns: Nothing, but prints model accuracies during training.\n",
        "    \"\"\"\n",
        "    model = model.to(device=device)  # move the model parameters to CPU/GPU\n",
        "    losses = []\n",
        "    best_accuracy = 0\n",
        "    best_model = None\n",
        "\n",
        "    for e in range(epochs):\n",
        "        for t, (x, y) in enumerate(loader_train):\n",
        "            model.train()  # put model to training mode\n",
        "            x = x.to(device=device, dtype=dtype)  # move to device, e.g. GPU\n",
        "            y = y.to(device=device, dtype=torch.long)\n",
        "\n",
        "            scores = model(x)\n",
        "            loss = F.cross_entropy(scores, y)\n",
        "            losses.append(loss.item())\n",
        "\n",
        "            # Zero out all of the gradients for the variables which the optimizer\n",
        "            # will update.\n",
        "            optimizer.zero_grad()\n",
        "\n",
        "            # This is the backwards pass: compute the gradient of the loss with\n",
        "            # respect to each  parameter of the model.\n",
        "            loss.backward()\n",
        "\n",
        "            # Actually update the parameters of the model using the gradients\n",
        "            # computed by the backwards pass.\n",
        "            optimizer.step()\n",
        "\n",
        "            if t % print_every == 0:\n",
        "                print('Iteration %d, loss = %.4f' % (t, loss.item()))\n",
        "                validation_accuracy = check_accuracy_part34(loader_val, model)\n",
        "                print()\n",
        "\n",
        "                if best_accuracy < validation_accuracy:\n",
        "                  best_model = model\n",
        "            \n",
        "    return losses, best_model\n",
        "\n",
        "def check_accuracy_part34(loader, model):\n",
        "    if loader.dataset.train:\n",
        "        print('Checking accuracy on validation set')\n",
        "    else:\n",
        "        print('Checking accuracy on test set')   \n",
        "    num_correct = 0\n",
        "    num_samples = 0\n",
        "    model.eval()  # set model to evaluation mode\n",
        "    with torch.no_grad():\n",
        "        for x, y in loader:\n",
        "            x = x.to(device=device, dtype=dtype)  # move to device, e.g. GPU\n",
        "            y = y.to(device=device, dtype=torch.long)\n",
        "            scores = model(x)\n",
        "            _, preds = scores.max(1)\n",
        "            num_correct += (preds == y).sum()\n",
        "            num_samples += preds.size(0)\n",
        "        acc = float(num_correct) / num_samples\n",
        "        print('Got %d / %d correct (%.2f)' % (num_correct, num_samples, 100 * acc))\n",
        "    return acc"
      ],
      "execution_count": 21,
      "outputs": [
        {
          "output_type": "stream",
          "text": [
            "using device: cuda\n"
          ],
          "name": "stdout"
        }
      ]
    },
    {
      "cell_type": "code",
      "metadata": {
        "colab": {
          "base_uri": "https://localhost:8080/"
        },
        "id": "J-dX_uDg_Xx7",
        "outputId": "8356fde4-a1bc-4dc1-ce29-114d39dc2f29"
      },
      "source": [
        "# Validate ResNet model final shape\n",
        "model = None\n",
        "model = ResNet(n=3)\n",
        "x = torch.randn(2, 3, 32, 32)\n",
        "print(model(x).shape)"
      ],
      "execution_count": 22,
      "outputs": [
        {
          "output_type": "stream",
          "text": [
            "torch.Size([2, 10])\n"
          ],
          "name": "stdout"
        }
      ]
    },
    {
      "cell_type": "code",
      "metadata": {
        "colab": {
          "base_uri": "https://localhost:8080/"
        },
        "id": "epejCjnM_X4I",
        "outputId": "8c733192-bb24-44d3-e87f-042302ba6ecf"
      },
      "source": [
        "# Train ResNet model\n",
        "learning_rate = 0.1\n",
        "learning_rate_decay = 0.95 # Not using learning rate decay for only 16 epochs\n",
        "weight_decay = 0.0001\n",
        "momentum = 0.9\n",
        "epochs = 16\n",
        "\n",
        "model = None\n",
        "optimizer = None\n",
        "\n",
        "model = ResNet(n=3)\n",
        "optimizer = optim.SGD(model.parameters(), lr=learning_rate, momentum=momentum, weight_decay=weight_decay)\n",
        "\n",
        "# Let's train this monster:\n",
        "training_losses, best_model = train_part34(model, optimizer, epochs=epochs)"
      ],
      "execution_count": 23,
      "outputs": [
        {
          "output_type": "stream",
          "text": [
            "Iteration 0, loss = 4.0595\n",
            "Checking accuracy on validation set\n",
            "Got 105 / 1000 correct (10.50)\n",
            "\n",
            "Iteration 100, loss = 1.8571\n",
            "Checking accuracy on validation set\n",
            "Got 254 / 1000 correct (25.40)\n",
            "\n",
            "Iteration 200, loss = 1.7185\n",
            "Checking accuracy on validation set\n",
            "Got 362 / 1000 correct (36.20)\n",
            "\n",
            "Iteration 300, loss = 1.5374\n",
            "Checking accuracy on validation set\n",
            "Got 414 / 1000 correct (41.40)\n",
            "\n",
            "Iteration 0, loss = 1.4944\n",
            "Checking accuracy on validation set\n",
            "Got 434 / 1000 correct (43.40)\n",
            "\n",
            "Iteration 100, loss = 1.5190\n",
            "Checking accuracy on validation set\n",
            "Got 512 / 1000 correct (51.20)\n",
            "\n",
            "Iteration 200, loss = 1.2929\n",
            "Checking accuracy on validation set\n",
            "Got 491 / 1000 correct (49.10)\n",
            "\n",
            "Iteration 300, loss = 1.2468\n",
            "Checking accuracy on validation set\n",
            "Got 531 / 1000 correct (53.10)\n",
            "\n",
            "Iteration 0, loss = 1.0683\n",
            "Checking accuracy on validation set\n",
            "Got 571 / 1000 correct (57.10)\n",
            "\n",
            "Iteration 100, loss = 1.1722\n",
            "Checking accuracy on validation set\n",
            "Got 566 / 1000 correct (56.60)\n",
            "\n",
            "Iteration 200, loss = 1.2609\n",
            "Checking accuracy on validation set\n",
            "Got 552 / 1000 correct (55.20)\n",
            "\n",
            "Iteration 300, loss = 0.9533\n",
            "Checking accuracy on validation set\n",
            "Got 611 / 1000 correct (61.10)\n",
            "\n",
            "Iteration 0, loss = 1.0918\n",
            "Checking accuracy on validation set\n",
            "Got 621 / 1000 correct (62.10)\n",
            "\n",
            "Iteration 100, loss = 0.8500\n",
            "Checking accuracy on validation set\n",
            "Got 634 / 1000 correct (63.40)\n",
            "\n",
            "Iteration 200, loss = 0.7967\n",
            "Checking accuracy on validation set\n",
            "Got 635 / 1000 correct (63.50)\n",
            "\n",
            "Iteration 300, loss = 0.9527\n",
            "Checking accuracy on validation set\n",
            "Got 641 / 1000 correct (64.10)\n",
            "\n",
            "Iteration 0, loss = 0.6995\n",
            "Checking accuracy on validation set\n",
            "Got 709 / 1000 correct (70.90)\n",
            "\n",
            "Iteration 100, loss = 0.7188\n",
            "Checking accuracy on validation set\n",
            "Got 682 / 1000 correct (68.20)\n",
            "\n",
            "Iteration 200, loss = 0.8132\n",
            "Checking accuracy on validation set\n",
            "Got 686 / 1000 correct (68.60)\n",
            "\n",
            "Iteration 300, loss = 0.7714\n",
            "Checking accuracy on validation set\n",
            "Got 720 / 1000 correct (72.00)\n",
            "\n",
            "Iteration 0, loss = 0.6433\n",
            "Checking accuracy on validation set\n",
            "Got 699 / 1000 correct (69.90)\n",
            "\n",
            "Iteration 100, loss = 0.6746\n",
            "Checking accuracy on validation set\n",
            "Got 740 / 1000 correct (74.00)\n",
            "\n",
            "Iteration 200, loss = 0.8327\n",
            "Checking accuracy on validation set\n",
            "Got 675 / 1000 correct (67.50)\n",
            "\n",
            "Iteration 300, loss = 0.6902\n",
            "Checking accuracy on validation set\n",
            "Got 749 / 1000 correct (74.90)\n",
            "\n",
            "Iteration 0, loss = 0.6998\n",
            "Checking accuracy on validation set\n",
            "Got 740 / 1000 correct (74.00)\n",
            "\n",
            "Iteration 100, loss = 0.5821\n",
            "Checking accuracy on validation set\n",
            "Got 760 / 1000 correct (76.00)\n",
            "\n",
            "Iteration 200, loss = 0.5889\n",
            "Checking accuracy on validation set\n",
            "Got 762 / 1000 correct (76.20)\n",
            "\n",
            "Iteration 300, loss = 0.7635\n",
            "Checking accuracy on validation set\n",
            "Got 762 / 1000 correct (76.20)\n",
            "\n",
            "Iteration 0, loss = 0.6811\n",
            "Checking accuracy on validation set\n",
            "Got 751 / 1000 correct (75.10)\n",
            "\n",
            "Iteration 100, loss = 0.4955\n",
            "Checking accuracy on validation set\n",
            "Got 743 / 1000 correct (74.30)\n",
            "\n",
            "Iteration 200, loss = 0.5990\n",
            "Checking accuracy on validation set\n",
            "Got 768 / 1000 correct (76.80)\n",
            "\n",
            "Iteration 300, loss = 0.5345\n",
            "Checking accuracy on validation set\n",
            "Got 795 / 1000 correct (79.50)\n",
            "\n",
            "Iteration 0, loss = 0.6610\n",
            "Checking accuracy on validation set\n",
            "Got 750 / 1000 correct (75.00)\n",
            "\n",
            "Iteration 100, loss = 0.4684\n",
            "Checking accuracy on validation set\n",
            "Got 798 / 1000 correct (79.80)\n",
            "\n",
            "Iteration 200, loss = 0.4954\n",
            "Checking accuracy on validation set\n",
            "Got 767 / 1000 correct (76.70)\n",
            "\n",
            "Iteration 300, loss = 0.7372\n",
            "Checking accuracy on validation set\n",
            "Got 788 / 1000 correct (78.80)\n",
            "\n",
            "Iteration 0, loss = 0.5531\n",
            "Checking accuracy on validation set\n",
            "Got 780 / 1000 correct (78.00)\n",
            "\n",
            "Iteration 100, loss = 0.5247\n",
            "Checking accuracy on validation set\n",
            "Got 786 / 1000 correct (78.60)\n",
            "\n",
            "Iteration 200, loss = 0.5907\n",
            "Checking accuracy on validation set\n",
            "Got 796 / 1000 correct (79.60)\n",
            "\n",
            "Iteration 300, loss = 0.5685\n",
            "Checking accuracy on validation set\n",
            "Got 803 / 1000 correct (80.30)\n",
            "\n",
            "Iteration 0, loss = 0.4667\n",
            "Checking accuracy on validation set\n",
            "Got 805 / 1000 correct (80.50)\n",
            "\n",
            "Iteration 100, loss = 0.4814\n",
            "Checking accuracy on validation set\n",
            "Got 776 / 1000 correct (77.60)\n",
            "\n",
            "Iteration 200, loss = 0.3725\n",
            "Checking accuracy on validation set\n",
            "Got 770 / 1000 correct (77.00)\n",
            "\n",
            "Iteration 300, loss = 0.5796\n",
            "Checking accuracy on validation set\n",
            "Got 792 / 1000 correct (79.20)\n",
            "\n",
            "Iteration 0, loss = 0.3981\n",
            "Checking accuracy on validation set\n",
            "Got 829 / 1000 correct (82.90)\n",
            "\n",
            "Iteration 100, loss = 0.3411\n",
            "Checking accuracy on validation set\n",
            "Got 797 / 1000 correct (79.70)\n",
            "\n",
            "Iteration 200, loss = 0.4585\n",
            "Checking accuracy on validation set\n",
            "Got 779 / 1000 correct (77.90)\n",
            "\n",
            "Iteration 300, loss = 0.4014\n",
            "Checking accuracy on validation set\n",
            "Got 818 / 1000 correct (81.80)\n",
            "\n",
            "Iteration 0, loss = 0.5073\n",
            "Checking accuracy on validation set\n",
            "Got 792 / 1000 correct (79.20)\n",
            "\n",
            "Iteration 100, loss = 0.3723\n",
            "Checking accuracy on validation set\n",
            "Got 826 / 1000 correct (82.60)\n",
            "\n",
            "Iteration 200, loss = 0.3963\n",
            "Checking accuracy on validation set\n",
            "Got 767 / 1000 correct (76.70)\n",
            "\n",
            "Iteration 300, loss = 0.3530\n",
            "Checking accuracy on validation set\n",
            "Got 779 / 1000 correct (77.90)\n",
            "\n",
            "Iteration 0, loss = 0.5109\n",
            "Checking accuracy on validation set\n",
            "Got 802 / 1000 correct (80.20)\n",
            "\n",
            "Iteration 100, loss = 0.3479\n",
            "Checking accuracy on validation set\n",
            "Got 796 / 1000 correct (79.60)\n",
            "\n",
            "Iteration 200, loss = 0.3060\n",
            "Checking accuracy on validation set\n",
            "Got 790 / 1000 correct (79.00)\n",
            "\n",
            "Iteration 300, loss = 0.4823\n",
            "Checking accuracy on validation set\n",
            "Got 829 / 1000 correct (82.90)\n",
            "\n",
            "Iteration 0, loss = 0.3685\n",
            "Checking accuracy on validation set\n",
            "Got 832 / 1000 correct (83.20)\n",
            "\n",
            "Iteration 100, loss = 0.5096\n",
            "Checking accuracy on validation set\n",
            "Got 810 / 1000 correct (81.00)\n",
            "\n",
            "Iteration 200, loss = 0.3219\n",
            "Checking accuracy on validation set\n",
            "Got 824 / 1000 correct (82.40)\n",
            "\n",
            "Iteration 300, loss = 0.2903\n",
            "Checking accuracy on validation set\n",
            "Got 808 / 1000 correct (80.80)\n",
            "\n",
            "Iteration 0, loss = 0.4999\n",
            "Checking accuracy on validation set\n",
            "Got 827 / 1000 correct (82.70)\n",
            "\n",
            "Iteration 100, loss = 0.3662\n",
            "Checking accuracy on validation set\n",
            "Got 818 / 1000 correct (81.80)\n",
            "\n",
            "Iteration 200, loss = 0.4963\n",
            "Checking accuracy on validation set\n",
            "Got 798 / 1000 correct (79.80)\n",
            "\n",
            "Iteration 300, loss = 0.4060\n",
            "Checking accuracy on validation set\n",
            "Got 803 / 1000 correct (80.30)\n",
            "\n"
          ],
          "name": "stdout"
        }
      ]
    },
    {
      "cell_type": "markdown",
      "metadata": {
        "id": "2BXyUY1rcTX8"
      },
      "source": [
        "## TASK F:\n",
        "Your  network  should  be  able  to  save  and  restore  the  weights."
      ]
    },
    {
      "cell_type": "code",
      "metadata": {
        "id": "m2Q3ScsBcU0s"
      },
      "source": [
        "# Save the best model\n",
        "PATH =  'best_model.pt'\n",
        "torch.save(best_model, PATH)"
      ],
      "execution_count": 24,
      "outputs": []
    },
    {
      "cell_type": "code",
      "metadata": {
        "id": "Z_cXMVv-f4vc",
        "colab": {
          "base_uri": "https://localhost:8080/"
        },
        "outputId": "ce557cec-6e30-4a91-8da9-ab807a529abe"
      },
      "source": [
        "# Load the best model\n",
        "best_model = torch.load(PATH)\n",
        "best_model.eval()"
      ],
      "execution_count": 25,
      "outputs": [
        {
          "output_type": "execute_result",
          "data": {
            "text/plain": [
              "ResNet(\n",
              "  (conv0): Conv2d(3, 16, kernel_size=(3, 3), stride=(1, 1), padding=(1, 1), bias=False)\n",
              "  (bn0): BatchNorm2d(16, eps=1e-05, momentum=0.1, affine=True, track_running_stats=True)\n",
              "  (relu): ReLU()\n",
              "  (stack1): ModuleList(\n",
              "    (0): Block(\n",
              "      (conv1): Conv2d(16, 16, kernel_size=(3, 3), stride=(1, 1), padding=(1, 1), bias=False)\n",
              "      (bn1): BatchNorm2d(16, eps=1e-05, momentum=0.1, affine=True, track_running_stats=True)\n",
              "      (conv2): Conv2d(16, 16, kernel_size=(3, 3), stride=(1, 1), padding=(1, 1), bias=False)\n",
              "      (bn2): BatchNorm2d(16, eps=1e-05, momentum=0.1, affine=True, track_running_stats=True)\n",
              "      (relu): ReLU()\n",
              "      (downsample): AvgPool2d(kernel_size=1, stride=2, padding=0)\n",
              "    )\n",
              "    (1): Block(\n",
              "      (conv1): Conv2d(16, 16, kernel_size=(3, 3), stride=(1, 1), padding=(1, 1), bias=False)\n",
              "      (bn1): BatchNorm2d(16, eps=1e-05, momentum=0.1, affine=True, track_running_stats=True)\n",
              "      (conv2): Conv2d(16, 16, kernel_size=(3, 3), stride=(1, 1), padding=(1, 1), bias=False)\n",
              "      (bn2): BatchNorm2d(16, eps=1e-05, momentum=0.1, affine=True, track_running_stats=True)\n",
              "      (relu): ReLU()\n",
              "      (downsample): AvgPool2d(kernel_size=1, stride=2, padding=0)\n",
              "    )\n",
              "    (2): Block(\n",
              "      (conv1): Conv2d(16, 16, kernel_size=(3, 3), stride=(1, 1), padding=(1, 1), bias=False)\n",
              "      (bn1): BatchNorm2d(16, eps=1e-05, momentum=0.1, affine=True, track_running_stats=True)\n",
              "      (conv2): Conv2d(16, 16, kernel_size=(3, 3), stride=(1, 1), padding=(1, 1), bias=False)\n",
              "      (bn2): BatchNorm2d(16, eps=1e-05, momentum=0.1, affine=True, track_running_stats=True)\n",
              "      (relu): ReLU()\n",
              "      (downsample): AvgPool2d(kernel_size=1, stride=2, padding=0)\n",
              "    )\n",
              "  )\n",
              "  (stack2_downsize): Block(\n",
              "    (conv1): Conv2d(16, 32, kernel_size=(3, 3), stride=(2, 2), padding=(1, 1), bias=False)\n",
              "    (bn1): BatchNorm2d(32, eps=1e-05, momentum=0.1, affine=True, track_running_stats=True)\n",
              "    (conv2): Conv2d(32, 32, kernel_size=(3, 3), stride=(1, 1), padding=(1, 1), bias=False)\n",
              "    (bn2): BatchNorm2d(32, eps=1e-05, momentum=0.1, affine=True, track_running_stats=True)\n",
              "    (relu): ReLU()\n",
              "    (downsample): AvgPool2d(kernel_size=1, stride=2, padding=0)\n",
              "  )\n",
              "  (stack2): ModuleList(\n",
              "    (0): Block(\n",
              "      (conv1): Conv2d(32, 32, kernel_size=(3, 3), stride=(1, 1), padding=(1, 1), bias=False)\n",
              "      (bn1): BatchNorm2d(32, eps=1e-05, momentum=0.1, affine=True, track_running_stats=True)\n",
              "      (conv2): Conv2d(32, 32, kernel_size=(3, 3), stride=(1, 1), padding=(1, 1), bias=False)\n",
              "      (bn2): BatchNorm2d(32, eps=1e-05, momentum=0.1, affine=True, track_running_stats=True)\n",
              "      (relu): ReLU()\n",
              "      (downsample): AvgPool2d(kernel_size=1, stride=2, padding=0)\n",
              "    )\n",
              "    (1): Block(\n",
              "      (conv1): Conv2d(32, 32, kernel_size=(3, 3), stride=(1, 1), padding=(1, 1), bias=False)\n",
              "      (bn1): BatchNorm2d(32, eps=1e-05, momentum=0.1, affine=True, track_running_stats=True)\n",
              "      (conv2): Conv2d(32, 32, kernel_size=(3, 3), stride=(1, 1), padding=(1, 1), bias=False)\n",
              "      (bn2): BatchNorm2d(32, eps=1e-05, momentum=0.1, affine=True, track_running_stats=True)\n",
              "      (relu): ReLU()\n",
              "      (downsample): AvgPool2d(kernel_size=1, stride=2, padding=0)\n",
              "    )\n",
              "  )\n",
              "  (stack3_downsize): Block(\n",
              "    (conv1): Conv2d(32, 64, kernel_size=(3, 3), stride=(2, 2), padding=(1, 1), bias=False)\n",
              "    (bn1): BatchNorm2d(64, eps=1e-05, momentum=0.1, affine=True, track_running_stats=True)\n",
              "    (conv2): Conv2d(64, 64, kernel_size=(3, 3), stride=(1, 1), padding=(1, 1), bias=False)\n",
              "    (bn2): BatchNorm2d(64, eps=1e-05, momentum=0.1, affine=True, track_running_stats=True)\n",
              "    (relu): ReLU()\n",
              "    (downsample): AvgPool2d(kernel_size=1, stride=2, padding=0)\n",
              "  )\n",
              "  (stack3): ModuleList(\n",
              "    (0): Block(\n",
              "      (conv1): Conv2d(64, 64, kernel_size=(3, 3), stride=(1, 1), padding=(1, 1), bias=False)\n",
              "      (bn1): BatchNorm2d(64, eps=1e-05, momentum=0.1, affine=True, track_running_stats=True)\n",
              "      (conv2): Conv2d(64, 64, kernel_size=(3, 3), stride=(1, 1), padding=(1, 1), bias=False)\n",
              "      (bn2): BatchNorm2d(64, eps=1e-05, momentum=0.1, affine=True, track_running_stats=True)\n",
              "      (relu): ReLU()\n",
              "      (downsample): AvgPool2d(kernel_size=1, stride=2, padding=0)\n",
              "    )\n",
              "    (1): Block(\n",
              "      (conv1): Conv2d(64, 64, kernel_size=(3, 3), stride=(1, 1), padding=(1, 1), bias=False)\n",
              "      (bn1): BatchNorm2d(64, eps=1e-05, momentum=0.1, affine=True, track_running_stats=True)\n",
              "      (conv2): Conv2d(64, 64, kernel_size=(3, 3), stride=(1, 1), padding=(1, 1), bias=False)\n",
              "      (bn2): BatchNorm2d(64, eps=1e-05, momentum=0.1, affine=True, track_running_stats=True)\n",
              "      (relu): ReLU()\n",
              "      (downsample): AvgPool2d(kernel_size=1, stride=2, padding=0)\n",
              "    )\n",
              "  )\n",
              "  (avgpool): AdaptiveAvgPool2d(output_size=(1, 1))\n",
              "  (fc): Linear(in_features=64, out_features=10, bias=True)\n",
              "  (softmax): LogSoftmax(dim=-1)\n",
              ")"
            ]
          },
          "metadata": {
            "tags": []
          },
          "execution_count": 25
        }
      ]
    },
    {
      "cell_type": "markdown",
      "metadata": {
        "id": "XOGyCO1jb15P"
      },
      "source": [
        "##TASK G:\n",
        "Plot the loss curves"
      ]
    },
    {
      "cell_type": "code",
      "metadata": {
        "id": "YYgfi60db7Zo",
        "colab": {
          "base_uri": "https://localhost:8080/",
          "height": 350
        },
        "outputId": "4a28aba8-8110-479a-fabb-ad57eb70cbd0"
      },
      "source": [
        "plt.figure(figsize=(10,5))\n",
        "plt.title(\"Training Loss\")\n",
        "plt.plot(training_losses,label=\"train\")\n",
        "plt.xlabel(\"iterations\")\n",
        "plt.ylabel(\"Loss\")\n",
        "plt.legend()\n",
        "plt.show()"
      ],
      "execution_count": 26,
      "outputs": [
        {
          "output_type": "display_data",
          "data": {
            "image/png": "[encoded data removed]",
            "text/plain": [
              "<Figure size 720x360 with 1 Axes>"
            ]
          },
          "metadata": {
            "tags": [],
            "needs_background": "light"
          }
        }
      ]
    },
    {
      "cell_type": "code",
      "metadata": {
        "colab": {
          "base_uri": "https://localhost:8080/"
        },
        "id": "5PzjUaH7jL2F",
        "outputId": "2b8c9dc9-8ab4-4462-afc0-84795df66118"
      },
      "source": [
        "# Let's check the accuracy of our best model on the test data\n",
        "check_accuracy_part34(loader_test, best_model)"
      ],
      "execution_count": 27,
      "outputs": [
        {
          "output_type": "stream",
          "text": [
            "Checking accuracy on test set\n",
            "Got 8136 / 10000 correct (81.36)\n"
          ],
          "name": "stdout"
        },
        {
          "output_type": "execute_result",
          "data": {
            "text/plain": [
              "0.8136"
            ]
          },
          "metadata": {
            "tags": []
          },
          "execution_count": 27
        }
      ]
    }
  ]
}